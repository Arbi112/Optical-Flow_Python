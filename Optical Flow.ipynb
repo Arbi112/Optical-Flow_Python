{
 "cells": [
  {
   "cell_type": "code",
   "execution_count": 32,
   "metadata": {},
   "outputs": [],
   "source": [
    "import numpy as np\n",
    "import cv2\n",
    "import time\n",
    "from __future__ import print_function\n",
    "help_message = '''\n",
    "USAGE: optical_flow.py [<video_source>]\n",
    "Keys:\n",
    " 1 - toggle HSV flow visualization\n",
    " 2 - toggle glitch\n",
    "'''\n"
   ]
  },
  {
   "cell_type": "code",
   "execution_count": 33,
   "metadata": {},
   "outputs": [],
   "source": [
    "count = 0\n",
    "\n",
    "def draw_flow(img, flow, step=8):\n",
    "    h, w = img.shape[:2]\n",
    "    y, x = np.mgrid[step/2:h:step, step/2:w:step].reshape(2,-1).astype(int)\n",
    "    fx, fy = flow[y,x].T\n",
    "    lines = np.vstack([x, y, x+fx, y+fy]).T.reshape(-1, 2, 2)\n",
    "    lines = np.int32(lines + 0.5)\n",
    "    vis = cv2.cvtColor(img, cv2.COLOR_GRAY2BGR)\n",
    "    cv2.polylines(vis, lines, 0, (0, 255, 0))\n",
    "    for (x1, y1), (x2, y2) in lines:\n",
    "        cv2.circle(vis, (x1, y1), 1, (0, 255, 0), -1)\n",
    "    return vis\n",
    "\n",
    "\n"
   ]
  },
  {
   "cell_type": "code",
   "execution_count": 34,
   "metadata": {},
   "outputs": [],
   "source": [
    "def draw_hsv(flow):\n",
    "    h, w = flow.shape[:2]\n",
    "    fx, fy = flow[:,:,0], flow[:,:,1]\n",
    "    ang = np.arctan2(fy, fx) + np.pi\n",
    "    v = np.sqrt(fx*fx+fy*fy)\n",
    "    hsv = np.zeros((h, w, 3), np.uint8)\n",
    "    hsv[...,0] = ang*(180/np.pi/2)\n",
    "    hsv[...,1] = 255\n",
    "    hsv[...,2] = np.minimum(v*4, 255)\n",
    "    bgr = cv2.cvtColor(hsv, cv2.COLOR_HSV2BGR)\n",
    "    return bgr\n"
   ]
  },
  {
   "cell_type": "code",
   "execution_count": 35,
   "metadata": {},
   "outputs": [],
   "source": [
    "\n",
    "def warp_flow(img, flow):\n",
    "    h, w = flow.shape[:2]\n",
    "    flow = -flow\n",
    "    flow[:,:,0] += np.arange(w)\n",
    "    flow[:,:,1] += np.arange(h)[:,np.newaxis]\n",
    "    res = cv2.remap(img, flow, None, cv2.INTER_LINEAR)\n",
    "    return res\n"
   ]
  },
  {
   "cell_type": "code",
   "execution_count": 55,
   "metadata": {},
   "outputs": [
    {
     "name": "stdout",
     "output_type": "stream",
     "text": [
      "No video file specified or camera connected.\n"
     ]
    }
   ],
   "source": [
    "cap = cv2.VideoCapture();\n",
    "\n",
    "# define display window name\n",
    "\n",
    "windowName = \"Dense Optic Flow\"; # window name\n",
    "\n",
    "# if command line arguments are provided try to read video_name\n",
    "# otherwise default to capture from attached H/W camera\n",
    "\n",
    "if (((len(sys.argv) == 2) and (cap.open(str(sys.argv[1]))))\n",
    "    or (cap.open(camera_to_use))):\n",
    "\n",
    "    # create window by name (as resizable)\n",
    "\n",
    "    cv2.namedWindow(windowName, cv2.WINDOW_NORMAL);\n",
    "\n",
    "    # if video file successfully open then read an initial frame from video\n",
    "\n",
    "    if (cap.isOpened):\n",
    "        ret, frame = cap.read();\n",
    "\n",
    "    # convert image to grayscale to be previous frame\n",
    "\n",
    "    prevgray=cv2.cvtColor(prev,cv2.COLOR_BGR2GRAY)\n",
    "    show_hsv = True\n",
    "    show_glitch = False\n",
    "    #if prevgray is None:\n",
    "           #break\n",
    "    cur_glitch = prev.copy()\n",
    "    \n",
    "    while True:\n",
    "        ret, img = cam.read()\n",
    "        vis = img.copy()\n",
    "        gray = cv2.cvtColor(img, cv2.COLOR_BGR2GRAY)\n",
    "        flow = cv2.calcOpticalFlowFarneback(prevgray, gray, 0.5, 5, 15, 3, 5, 1.1, cv2.OPTFLOW_FARNEBACK_GAUSSIAN)\n",
    "        prevgray = gray\n",
    "        cv2.imshow('flow', draw_flow(gray, flow))\n",
    "        if show_hsv:\n",
    "            gray1 = cv2.cvtColor(draw_hsv(flow), cv2.COLOR_BGR2GRAY)\n",
    "            thresh = cv2.threshold(gray1, 25, 255, cv2.THRESH_BINARY)[1]\n",
    "            thresh = cv2.dilate(thresh, None, iterations=2)\n",
    "            (cnts, _) = cv2.findContours(thresh.copy(), cv2.RETR_EXTERNAL,cv2.CHAIN_APPROX_SIMPLE)\n",
    " \n",
    "            # loop over the contours\n",
    "            for c in cnts:\n",
    "            # if the contour is too small, ignore it\n",
    "                (x, y, w, h) = cv2.boundingRect(c)\n",
    "            if w > 100 and h > 100 and w < 900 and h < 680:\n",
    "                cv2.rectangle(vis, (x, y), (x + w, y + h), (0, 255, 0), 4)\n",
    "                cv2.putText(vis,str(time.time()), (x,y), cv2.FONT_HERSHEY_SIMPLEX, 1, (0,0,255),1)\n",
    "\n",
    "            cv2.imshow('Image', vis)\n",
    "        if show_glitch:\n",
    "            cur_glitch = warp_flow(cur_glitch, flow)\n",
    "            cv2.imshow('glitch', cur_glitch)\n",
    "        ch = 0xFF & cv2.waitKey(5)\n",
    "        if ch == 27:\n",
    "            break\n",
    "        if ch == ord('1'):\n",
    "            show_hsv = not show_hsv\n",
    "            print('HSV flow visualization is', ['off', 'on'][show_hsv]) \n",
    "        if ch == ord('2'):\n",
    "            show_glitch = not show_glitch\n",
    "            if show_glitch:\n",
    "                cur_glitch = img.copy()\n",
    "            print('glitch is', ['off', 'on'][show_glitch])\n",
    "\n",
    "    cv2.destroyAllWindows() \n",
    "else:\n",
    "    print(\"No video file specified or camera connected.\");\n"
   ]
  },
  {
   "cell_type": "code",
   "execution_count": null,
   "metadata": {},
   "outputs": [],
   "source": [
    "\n",
    "pip install opencv-python\n",
    "\n",
    "sudo pip install sk-video\n",
    "\n",
    "conda install -c anaconda opencv\n"
   ]
  }
 ],
 "metadata": {
  "kernelspec": {
   "display_name": "Python (abc2)",
   "language": "python",
   "name": "abc2"
  },
  "language_info": {
   "codemirror_mode": {
    "name": "ipython",
    "version": 2
   },
   "file_extension": ".py",
   "mimetype": "text/x-python",
   "name": "python",
   "nbconvert_exporter": "python",
   "pygments_lexer": "ipython2",
   "version": "2.7.15"
  }
 },
 "nbformat": 4,
 "nbformat_minor": 2
}
